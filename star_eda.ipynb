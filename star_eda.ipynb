{
 "cells": [
  {
   "cell_type": "code",
   "execution_count": 1,
   "metadata": {},
   "outputs": [],
   "source": [
    "import sys\n",
    "import scipy.io\n",
    "import h5py\n",
    "import numpy as np\n",
    "import os, sys, time, subprocess, h5py, argparse, logging, pickle\n",
    "import numpy as np\n",
    "import pandas as pd\n",
    "from os.path import join as oj\n",
    "from copy import deepcopy\n",
    "from scipy.ndimage import imread\n",
    "from scipy.misc import imresize\n",
    "from PIL import Image\n",
    "sys.path.insert(1, oj(sys.path[0], '..'))  # insert parent path                   \n",
    "from torch.utils.data import Dataset\n",
    "import matplotlib.pyplot as plt\n",
    "import data.data as data\n",
    "import re\n",
    "\n",
    "%matplotlib inline\n",
    "%load_ext autoreload\n",
    "%autoreload 2"
   ]
  },
  {
   "cell_type": "markdown",
   "metadata": {},
   "source": [
    "# preprocess raw data"
   ]
  },
  {
   "cell_type": "code",
   "execution_count": 3,
   "metadata": {},
   "outputs": [],
   "source": [
    "\n",
    "def read_conditions(fname):\n",
    "    c_raw = pd.read_csv(fname, delimiter=',')\n",
    "    c = pd.DataFrame() #pd.read_csv(oj('data', 'star_polymer_conditions.csv'), delimiter=',')\n",
    "    c['fnames'] = c_raw.fnames.astype(str)\n",
    "    c['conc'] = c_raw.conc_solution # mol/L\n",
    "    c['solvent_glyc'] = [int(x[:2]) for x in c_raw.solvent_glyc]# percent glycerol, 5% ethanol, 85% water\n",
    "    c['pressure'] = c_raw.pressure # mba  r\n",
    "    c['time'] = c_raw.time # time delivered for (s)\n",
    "    c['zmin'] = zz = [float(re.sub(\"[^0-9*.-]\", \"\", zz).split('*')[0]) for zz in c_raw.zz] # physical width = physical height# max zscale\n",
    "    c['zmax'] = zz = [float(re.sub(\"[^0-9*.-]\", \"\", zz).split('*')[1]) for zz in c_raw.zz] # physical width = physical height# max zscale\n",
    "    c['width_physical'] = [float(re.sub(\"[^0-9*.]\", \"\", xy).split('*')[0]) for xy in c_raw.xy] # physical width = physical height\n",
    "    c['R'] = c_raw.R # based on scan lines\n",
    "    c['C'] = c_raw.C # based on scan lines\n",
    "    return c\n",
    "conditions = read_conditions(oj('data', 'star_polymer_conditions.csv'))"
   ]
  },
  {
   "cell_type": "code",
   "execution_count": 4,
   "metadata": {},
   "outputs": [],
   "source": [
    "from lib.igg import binarywave\n",
    "def read_ims(data_raw_dir, conditions):\n",
    "\n",
    "\n",
    "data_raw_dir = 'data/star_polymer/star_polymer_raw_ibw'\n",
    "read_ims(data_raw_dir, conditions)"
   ]
  },
  {
   "cell_type": "code",
   "execution_count": null,
   "metadata": {},
   "outputs": [],
   "source": [
    "# load dset (takes a few seconds)\n",
    "dset = Star_dset()\n",
    "# dset.conditions.head()\n",
    "dset.conditions\n",
    "\n",
    "# times = initial dev. time (how long we deliver soln)\n",
    "# z-scale = processing of image (so that we can capture variation at better res)\n",
    "# x_y_size  = res of image\n",
    "# scan lines (left to right)\n",
    "# scan_points_per_line: res of each line\n",
    "# important inputs: sol_concentration\tpressure\ttime"
   ]
  }
 ],
 "metadata": {
  "kernelspec": {
   "display_name": "Python 3",
   "language": "python",
   "name": "python3"
  },
  "language_info": {
   "codemirror_mode": {
    "name": "ipython",
    "version": 3
   },
   "file_extension": ".py",
   "mimetype": "text/x-python",
   "name": "python",
   "nbconvert_exporter": "python",
   "pygments_lexer": "ipython3",
   "version": "3.7.0"
  }
 },
 "nbformat": 4,
 "nbformat_minor": 2
}
